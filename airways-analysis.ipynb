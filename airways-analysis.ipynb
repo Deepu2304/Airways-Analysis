{
 "cells": [
  {
   "cell_type": "code",
   "execution_count": null,
   "id": "3e193f93",
   "metadata": {},
   "outputs": [],
   "source": [
    "import numpy as np\n",
    "import pandas as pd \n",
    "import matplotlib.pyplot as plt\n",
    "import seaborn as sns\n",
    "sns.set_theme(style=\"whitegrid\")\n",
    "import plotly.express as px \n",
    "import plotly.graph_objects as go \n",
    "import plotly as py \n",
    "from plotly import tools\n",
    "import os\n",
    "import calendar"
   ]
  },
  {
   "cell_type": "code",
   "execution_count": null,
   "id": "f4913e7d",
   "metadata": {},
   "outputs": [],
   "source": [
    "airway_path=\"/Users/jaideepsai/Desktop/DATA-ANALYTICS/Data Source/extracted-data/British Airways/preprocessed_airline_dataset.csv\"\n",
    "airway_data=pd.read_csv(airway_path, delimiter=',')"
   ]
  },
  {
   "cell_type": "code",
   "execution_count": null,
   "id": "a585e59a",
   "metadata": {},
   "outputs": [],
   "source": [
    "airway_data.head()"
   ]
  },
  {
   "cell_type": "code",
   "execution_count": null,
   "id": "251fd05b",
   "metadata": {},
   "outputs": [],
   "source": [
    "airway_data.info()"
   ]
  },
  {
   "cell_type": "code",
   "execution_count": null,
   "id": "56981a32",
   "metadata": {},
   "outputs": [],
   "source": [
    "airway_data.isnull().sum()"
   ]
  },
  {
   "cell_type": "code",
   "execution_count": null,
   "id": "dbe69f8b",
   "metadata": {},
   "outputs": [],
   "source": [
    "airway_data = airway_data[~(airway_data.traveller_type.isnull())]"
   ]
  },
  {
   "cell_type": "code",
   "execution_count": null,
   "id": "1e1514f4",
   "metadata": {},
   "outputs": [],
   "source": [
    "airway_data.isnull().sum()"
   ]
  },
  {
   "cell_type": "code",
   "execution_count": null,
   "id": "328e2a32",
   "metadata": {},
   "outputs": [],
   "source": [
    "airway_data[\"date\"]=pd.to_datetime(airway_data[\"date\"],format='%d-%m-%Y')"
   ]
  },
  {
   "cell_type": "code",
   "execution_count": null,
   "id": "0588d713",
   "metadata": {},
   "outputs": [],
   "source": [
    "airway_data.pivot_table(index = \"seat_type\", columns =\"traveller_type\", values = \"rating\", aggfunc = lambda x: np.quantile(x, 0.5))"
   ]
  },
  {
   "cell_type": "code",
   "execution_count": null,
   "id": "840958b4",
   "metadata": {},
   "outputs": [],
   "source": [
    "airway_data.pivot_table(index = \"seat_type\", columns =\"traveller_type\", values = \"rating\", aggfunc =\"mean\")"
   ]
  },
  {
   "cell_type": "code",
   "execution_count": null,
   "id": "c1ace7d0",
   "metadata": {},
   "outputs": [],
   "source": [
    "airway_data[\"year\"]=pd.DatetimeIndex(airway_data[\"date\"]).year"
   ]
  },
  {
   "cell_type": "code",
   "execution_count": null,
   "id": "5c9cde20",
   "metadata": {},
   "outputs": [],
   "source": [
    "airway_data.groupby(\"year\")[['rating','seat_comfort','cabin_staff_service','food_beverages','ground_service','value_for_money']].mean()"
   ]
  },
  {
   "cell_type": "code",
   "execution_count": null,
   "id": "a8126b5f",
   "metadata": {},
   "outputs": [],
   "source": [
    "sns.countplot(x = \"seat_type\", data = airway_data )\n",
    "plt.show()\n"
   ]
  },
  {
   "cell_type": "code",
   "execution_count": null,
   "id": "ec63a24a",
   "metadata": {},
   "outputs": [],
   "source": [
    "sns.countplot(x = \"seat_type\", hue = \"rating\", data = airway_data )\n",
    "plt.show()"
   ]
  },
  {
   "cell_type": "code",
   "execution_count": null,
   "id": "6473ba4a",
   "metadata": {},
   "outputs": [],
   "source": [
    "sns.countplot(x = \"seat_type\", hue = \"recommended\", data = airway_data )"
   ]
  },
  {
   "cell_type": "code",
   "execution_count": null,
   "id": "40348731",
   "metadata": {},
   "outputs": [],
   "source": [
    "sns.countplot(x = \"rating\", data = airway_data )\n",
    "plt.show()"
   ]
  },
  {
   "cell_type": "code",
   "execution_count": null,
   "id": "7c401831",
   "metadata": {},
   "outputs": [],
   "source": [
    "sns.countplot(x = \"rating\", hue = \"trip_verified\", data = airway_data )"
   ]
  },
  {
   "cell_type": "code",
   "execution_count": null,
   "id": "6d37c1a3",
   "metadata": {},
   "outputs": [],
   "source": [
    "airway_data.trip_verified.value_counts(normalize = True) * 100"
   ]
  },
  {
   "cell_type": "code",
   "execution_count": null,
   "id": "aab9879c",
   "metadata": {},
   "outputs": [],
   "source": [
    "date_aircraft_df = airway_data[['date_flown', 'aircraft']]\n",
    "date_aircraft_count = date_aircraft_df.groupby(['date_flown', 'aircraft']).size().reset_index(name='count')\n",
    "most_flown_date = date_aircraft_count.loc[date_aircraft_count['count'].idxmax()]"
   ]
  },
  {
   "cell_type": "code",
   "execution_count": null,
   "id": "b7fbbd74",
   "metadata": {},
   "outputs": [],
   "source": [
    "plt.figure(figsize=(16, 8))\n",
    "sns.barplot(x='aircraft', y='count', data=date_aircraft_count[date_aircraft_count['date_flown'] == most_flown_date['date_flown']])\n",
    "plt.title(f'Most Flown Date: {most_flown_date[\"date_flown\"]} - Aircraft Distribution')\n",
    "plt.xlabel('Aircraft')\n",
    "plt.ylabel('Count')\n",
    "plt.xticks(rotation=45, ha='right')\n",
    "plt.tight_layout()\n",
    "plt.show()"
   ]
  },
  {
   "cell_type": "code",
   "execution_count": null,
   "id": "e527eccb",
   "metadata": {},
   "outputs": [],
   "source": [
    "rating_threshold = 8\n",
    "\n",
    "filtered_aircraft_rating_df = airway_data[airway_data['rating'] > rating_threshold][['aircraft', 'rating']]\n",
    "\n",
    "average_rating_per_aircraft = filtered_aircraft_rating_df.groupby('aircraft')['rating'].mean().reset_index(name='average_rating')\n",
    "top_rated_aircraft = average_rating_per_aircraft.loc[average_rating_per_aircraft['average_rating'].idxmax()]\n"
   ]
  },
  {
   "cell_type": "code",
   "execution_count": null,
   "id": "16340de8",
   "metadata": {},
   "outputs": [],
   "source": [
    "# Plotting the bar plot for the most highly rated aircraft above the threshold\n",
    "plt.figure(figsize=(12, 6))\n",
    "sns.barplot(x='aircraft', y='average_rating', data=average_rating_per_aircraft, color='skyblue')\n",
    "plt.title(f'Highly Rated Aircraft (Above {rating_threshold} Rating)')\n",
    "plt.xlabel('Aircraft')\n",
    "plt.ylabel('Average Rating')\n",
    "plt.xticks(rotation=90, ha='right')\n",
    "plt.tight_layout()\n",
    "plt.show()\n"
   ]
  },
  {
   "cell_type": "code",
   "execution_count": null,
   "id": "2fb09118",
   "metadata": {},
   "outputs": [],
   "source": [
    "plt.figure(figsize =(25,12) )\n",
    "plt.xscale(\"log\")\n",
    "sns.countplot(y = \"place\", data = airway_data)"
   ]
  },
  {
   "cell_type": "code",
   "execution_count": null,
   "id": "bdabbca1",
   "metadata": {},
   "outputs": [],
   "source": [
    "airway_data.pivot_table(index = \"place\", columns =\"seat_type\", values = \"rating\", aggfunc =\"mean\")"
   ]
  },
  {
   "cell_type": "code",
   "execution_count": null,
   "id": "be85c287",
   "metadata": {},
   "outputs": [],
   "source": [
    "res = airway_data[['rating', 'seat_comfort', 'cabin_staff_service','food_beverages', 'ground_service', 'value_for_money']].corr()"
   ]
  },
  {
   "cell_type": "code",
   "execution_count": null,
   "id": "b931a1d4",
   "metadata": {
    "scrolled": false
   },
   "outputs": [],
   "source": [
    "sns.heatmap(res,annot = True, cmap = \"viridis\")"
   ]
  },
  {
   "cell_type": "code",
   "execution_count": null,
   "id": "27252f92",
   "metadata": {},
   "outputs": [],
   "source": [
    "columns_to_keep = ['place', 'aircraft', 'rating']\n",
    "df_cleaned = airway_data[columns_to_keep].dropna()"
   ]
  },
  {
   "cell_type": "code",
   "execution_count": null,
   "id": "2818c772",
   "metadata": {},
   "outputs": [],
   "source": [
    "def suggest_aircraft(place, rating):\n",
    "    filtered_df = df_cleaned[(df_cleaned['place'] == place) & (df_cleaned['rating'] > rating)]\n",
    "\n",
    "    if not filtered_df.empty:\n",
    "        suggested_aircrafts = filtered_df[['aircraft', 'rating']]\n",
    "\n",
    "        suggested_aircrafts = suggested_aircrafts.sort_values(by='rating', ascending=False)\n",
    "\n",
    "        return suggested_aircrafts\n",
    "    else:\n",
    "        return f\"No suggested aircrafts found for {place} with a rating higher than {rating}\"\n",
    "\n",
    "available_places = df_cleaned['place'].unique()"
   ]
  },
  {
   "cell_type": "code",
   "execution_count": null,
   "id": "2d31fd8b",
   "metadata": {},
   "outputs": [],
   "source": [
    "# Example place and rating values (replace with your desired values)\n",
    "selected_place = \"India\"\n",
    "selected_rating = 4.0\n",
    "\n",
    "if selected_place not in available_places:\n",
    "    print(\"Invalid place. Please choose from the available options.\")\n",
    "    print(\"Available Places:\", \", \".join(available_places))\n",
    "else:\n",
    "    suggestion = suggest_aircraft(selected_place, selected_rating)\n",
    "\n",
    "    if not suggestion.empty:\n",
    "        print(\"Suggested Aircrafts:\")\n",
    "        print(suggestion)\n",
    "    else:\n",
    "        print(f\"No suggested aircrafts found for {selected_place} with a rating higher than {selected_rating}\")"
   ]
  },
  {
   "cell_type": "code",
   "execution_count": null,
   "id": "6cefa58b",
   "metadata": {},
   "outputs": [],
   "source": []
  }
 ],
 "metadata": {
  "kernelspec": {
   "display_name": "Python 3 (ipykernel)",
   "language": "python",
   "name": "python3"
  },
  "language_info": {
   "codemirror_mode": {
    "name": "ipython",
    "version": 3
   },
   "file_extension": ".py",
   "mimetype": "text/x-python",
   "name": "python",
   "nbconvert_exporter": "python",
   "pygments_lexer": "ipython3",
   "version": "3.11.5"
  }
 },
 "nbformat": 4,
 "nbformat_minor": 5
}
